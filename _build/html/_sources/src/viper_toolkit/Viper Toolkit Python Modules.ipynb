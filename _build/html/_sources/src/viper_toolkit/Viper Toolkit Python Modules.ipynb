{
 "cells": [
  {
   "cell_type": "markdown",
   "metadata": {},
   "source": [
    "# Viper Toolkit"
   ]
  },
  {
   "cell_type": "code",
   "execution_count": 1,
   "metadata": {},
   "outputs": [],
   "source": [
    "import inspect"
   ]
  },
  {
   "cell_type": "code",
   "execution_count": 14,
   "metadata": {},
   "outputs": [
    {
     "ename": "SyntaxError",
     "evalue": "invalid syntax (3953778466.py, line 1)",
     "output_type": "error",
     "traceback": [
      "\u001b[0;36m  File \u001b[0;32m\"/tmp/ipykernel_87911/3953778466.py\"\u001b[0;36m, line \u001b[0;32m1\u001b[0m\n\u001b[0;31m    from viper_toolkit import __init__.py\u001b[0m\n\u001b[0m                                      ^\u001b[0m\n\u001b[0;31mSyntaxError\u001b[0m\u001b[0;31m:\u001b[0m invalid syntax\n"
     ]
    }
   ],
   "source": [
    "__all__ = [\n",
    "    'NameManager',\n",
    "    'Logger',\n",
    "    'ProcessTimer',\n",
    "    'Parameter',\n",
    "    'ParameterManager'\n",
    "]\n"
   ]
  },
  {
   "cell_type": "markdown",
   "metadata": {},
   "source": [
    "# NameManager"
   ]
  },
  {
   "cell_type": "code",
   "execution_count": 6,
   "metadata": {
    "scrolled": false
   },
   "outputs": [
    {
     "ename": "ImportError",
     "evalue": "cannot import name 'NameManager' from 'viper_toolkit' (/home/andrew/viper/devel/lib/python3/dist-packages/viper_toolkit/__init__.py)",
     "output_type": "error",
     "traceback": [
      "\u001b[0;31m---------------------------------------------------------------------------\u001b[0m",
      "\u001b[0;31mImportError\u001b[0m                               Traceback (most recent call last)",
      "\u001b[0;32m/tmp/ipykernel_95911/1849542711.py\u001b[0m in \u001b[0;36m<module>\u001b[0;34m\u001b[0m\n\u001b[0;32m----> 1\u001b[0;31m \u001b[0;32mfrom\u001b[0m \u001b[0mviper_toolkit\u001b[0m \u001b[0;32mimport\u001b[0m \u001b[0mNameManager\u001b[0m\u001b[0;34m\u001b[0m\u001b[0;34m\u001b[0m\u001b[0m\n\u001b[0m\u001b[1;32m      2\u001b[0m \u001b[0mlines\u001b[0m \u001b[0;34m=\u001b[0m \u001b[0minspect\u001b[0m\u001b[0;34m.\u001b[0m\u001b[0mgetsource\u001b[0m\u001b[0;34m(\u001b[0m\u001b[0mNameManager\u001b[0m\u001b[0;34m)\u001b[0m\u001b[0;34m\u001b[0m\u001b[0;34m\u001b[0m\u001b[0m\n\u001b[1;32m      3\u001b[0m \u001b[0mprint\u001b[0m\u001b[0;34m(\u001b[0m\u001b[0mlines\u001b[0m\u001b[0;34m)\u001b[0m\u001b[0;34m\u001b[0m\u001b[0;34m\u001b[0m\u001b[0m\n",
      "\u001b[0;31mImportError\u001b[0m: cannot import name 'NameManager' from 'viper_toolkit' (/home/andrew/viper/devel/lib/python3/dist-packages/viper_toolkit/__init__.py)"
     ]
    }
   ],
   "source": [
    "from viper_toolkit import NameManager\n",
    "lines = inspect.getsource(NameManager)\n",
    "print(lines)"
   ]
  },
  {
   "cell_type": "markdown",
   "metadata": {},
   "source": [
    "# Logger"
   ]
  },
  {
   "cell_type": "code",
   "execution_count": 16,
   "metadata": {
    "scrolled": false
   },
   "outputs": [
    {
     "name": "stdout",
     "output_type": "stream",
     "text": [
      "class Logger(object):\n",
      "    \"\"\" The Logger object managers the format for the logging output\n",
      "    of various viper nodes and modules. It creates a standardized format\n",
      "    used between the Logger, the Parameter manager, the name manager, \n",
      "    etc.\n",
      "    \n",
      "    Keyword Arguments:\n",
      "    name -- the name or name manager to be used by the logger\n",
      "    tag -- the default [tag] to be used by the logger\n",
      "    \"\"\"\n",
      "    def __init__(self, \n",
      "                name_manager: NameManager = None, \n",
      "                name: str = None, \n",
      "                tag: str = None):\n",
      "                    self._name = name\n",
      "                    self._tag = tag\n",
      "                    self.setup_name_manager(name_manager)\n",
      "                    \n",
      "    def setup_name_manager(self, var=None):\n",
      "        if var == None:\n",
      "            if self.name == None:\n",
      "                if self.tag == None:\n",
      "                    self.name_manager = NameManager()\n",
      "                    self.tag = self.name_manager.abv\n",
      "                else:\n",
      "                    self.name_manager = NameManager(name=self.tag, abv=self.tag)\n",
      "                self.name = self.name_manaager.name\n",
      "            else:\n",
      "                self.name_manager = NameManager(name=self.name)\n",
      "        else:\n",
      "            self.name_manager = var\n",
      "            self.name = self.name_manager.name\n",
      "   \n",
      "    def set_name(self):\n",
      "        self.name_manager.name\n",
      "    @property\n",
      "    def name(self):\n",
      "        return self._name\n",
      "    @name.setter\n",
      "    def name(self, var=None):\n",
      "        if var == None:\n",
      "                self._name = self.name_manager.name\n",
      "        else:\n",
      "            self._name = var\n",
      "    @property\n",
      "    def tag(self):\n",
      "        if self._tag == None:\n",
      "            self.tag = None\n",
      "        return self._tag\n",
      "    @tag.setter\n",
      "    def tag(self, var=None):\n",
      "        if var == None:\n",
      "            self._tag = self.name_manager.abv\n",
      "        else:\n",
      "            self._tag = var\n",
      "    @classmethod\n",
      "    def i(self, message: str , itag: str = None):\n",
      "        ''' Rospy Information Log'''\n",
      "        if itag == None:\n",
      "            itag = self.tag\n",
      "        m = self.message_formatter(message=message, itag=itag)\n",
      "        return rospy.loginfo(m)\n",
      "    @classmethod\n",
      "    def e(self, message: str, itag: str = None):\n",
      "        ''' Rospy Error Log'''\n",
      "        if itag == None:\n",
      "            itag = self.tag\n",
      "        m = self.message_formatter(message=message, itag=itag)\n",
      "        return rospy.logerr(m)\n",
      "    @classmethod\n",
      "    def d(self, message: str, itag: str = None):\n",
      "        ''' Rospy Debug Log'''\n",
      "        if itag == None:\n",
      "            itag = self.tag\n",
      "        m = self.message_formatter(message=message, itag=itag)\n",
      "        return rospy.logdebug(m)\n",
      "    @classmethod\n",
      "    def message_formatter(self, message, itag = None):\n",
      "        if itag == None:\n",
      "            itag_o = self.tag\n",
      "        else:\n",
      "            itag_o = NameManager.codeformatter(f'{itag}')\n",
      "        m = f\"[{itag_o}] {message}\"\n",
      "        return m\n",
      "\n"
     ]
    }
   ],
   "source": [
    "from viper_toolkit import Logger\n",
    "lines = inspect.getsource(Logger)\n",
    "print(lines)"
   ]
  },
  {
   "cell_type": "markdown",
   "metadata": {},
   "source": [
    "# ProcessTimer"
   ]
  },
  {
   "cell_type": "code",
   "execution_count": 17,
   "metadata": {
    "scrolled": false
   },
   "outputs": [
    {
     "name": "stdout",
     "output_type": "stream",
     "text": [
      "class ProcessTimer(object):\n",
      "    def __init__(self, abv = None, name = None, logger = None):\n",
      "        self.record = {}\n",
      "        self._abv = abv\n",
      "        self._log(tag = \"total_runtime\")\n",
      "        self._logger = logger\n",
      "        self._name = name\n",
      "    @property\n",
      "    def logger(self):\n",
      "        return self._logger\n",
      "    @logger.setter\n",
      "    def logger(self, value):\n",
      "        self._logger = value\n",
      "    @property\n",
      "    def abv(self):\n",
      "        return self._abv\n",
      "    @abv.setter\n",
      "    def abv(self, value = None):\n",
      "        if value == None:\n",
      "            if self._logger != None:\n",
      "                if type(self._logger) == Logger:\n",
      "                    self._abv = self._logger.tag\n",
      "            elif self._name != None:\n",
      "                    if type(self._name) == NameManager:\n",
      "                        self._abv = self._name.abv\n",
      "        else:\n",
      "            self._abv = value\n",
      "    def _log(self, tag: str):\n",
      "        self.record[tag] = {\"start\": time.time(),\n",
      "                            \"end\" : 0,\n",
      "                            \"total\": 0}\n",
      "    def lap(self, tag:str):\n",
      "        self._log(tag)\n",
      "    def time(self, tag:str, name:str = None):\n",
      "        end = time.time()\n",
      "        try:\n",
      "            start = self.record[tag]['start']\n",
      "            self.record[tag]['end'] = end\n",
      "            total_time = self.ms(start, end)\n",
      "            self.record[tag]['total'] = total_time\n",
      "            self.log_info(f\"{tag} time: {total_time}ms\", name)\n",
      "        except:\n",
      "            self.log_error(f'[name] {tag} not found.', name)\n",
      "            return\n",
      "    def log_info(self, message, name):\n",
      "        if type(self._logger) == Logger:\n",
      "            self.logger.i(message, name)\n",
      "        else:\n",
      "            if name == None:\n",
      "                rospy.loginfo(f'[{self._abv}] {message}')\n",
      "            else:\n",
      "                rospy.loginfo(f'[{name}] {message}')\n",
      "    def log_error(self, message, name):\n",
      "        if type(self._logger) == Logger:\n",
      "            self.logger.e(message, name)\n",
      "        elif name != None:\n",
      "            rospy.logerr(f'[{name}] {message}')\n",
      "        else:\n",
      "            rospy.logerr(f'[{self._abv}] {message}')\n",
      "\n",
      "    def ms(self, start, end):\n",
      "        return int(1000*(end - start))\n",
      "\n"
     ]
    }
   ],
   "source": [
    "from viper_toolkit import ProcessTimer\n",
    "lines = inspect.getsource(ProcessTimer)\n",
    "print(lines)"
   ]
  },
  {
   "cell_type": "markdown",
   "metadata": {},
   "source": [
    "# Parameter Manager"
   ]
  },
  {
   "cell_type": "code",
   "execution_count": 11,
   "metadata": {
    "scrolled": false
   },
   "outputs": [
    {
     "name": "stdout",
     "output_type": "stream",
     "text": [
      "class ParameterManager(object):\n",
      "    def __init__(self, \n",
      "                name_manager: NameManager = None, \n",
      "                logger: Logger = None):\n",
      "                    self.setup_name_manager(var=name_manager)\n",
      "                    self.setup_logger(var=logger)\n",
      "                    self._parameters = {}\n",
      "\n",
      "    def setup_name_manager(self, var = None):\n",
      "        if var == None:\n",
      "            try:\n",
      "                self.name_manager = self.logger.name_manager\n",
      "            except:\n",
      "                self.name_manager = NameManager(name=rospy.get_name())\n",
      "        else:\n",
      "            self.name_manager = var\n",
      "            \n",
      "    def setup_logger(self, var = None):\n",
      "        # If we are not given a logger, we will create one using our \n",
      "        # Name manager. Note that if the Name Manager was created\n",
      "        # automatically it already has a '.' in its name, which \n",
      "        # indicates this is a parameter.\n",
      "        if var == None:\n",
      "            self.logger = Logger(name_manager=self.name_manager)\n",
      "        else:\n",
      "            self.logger = var\n",
      "\n",
      "    def add(self, var):\n",
      "        variable = var.name\n",
      "        self.logger.i(f\"Parameter name is {variable}\")\n",
      "        self._parameters[variable] = var\n",
      "        setattr(self, variable, self._parameters[variable].value)\n",
      "        self.logger.i(f\"Parameter {variable} added.\")\n",
      "\n",
      "    def update(self):\n",
      "        count = 0\n",
      "        for parameter in self._parameters:\n",
      "            if self._parameters[parameter].dynamic:\n",
      "                old = self._parameters[parameter]\n",
      "                self._parameters[parameter].refresh_parameter()\n",
      "                new = self._parameters[parameter]\n",
      "                if old != new:\n",
      "                    self.logger().i(\n",
      "                        f'Parameter {parameter} updated to new values.')\n",
      "                    count = count + 1\n",
      "        self.logger.i(f'Parameters updated. {count} updates found.')\n",
      "\n"
     ]
    }
   ],
   "source": [
    "from viper_toolkit import ParameterManager\n",
    "lines = inspect.getsource(ParameterManager)\n",
    "print(lines)"
   ]
  },
  {
   "cell_type": "markdown",
   "metadata": {},
   "source": [
    "## Parameter"
   ]
  },
  {
   "cell_type": "code",
   "execution_count": 12,
   "metadata": {},
   "outputs": [
    {
     "name": "stdout",
     "output_type": "stream",
     "text": [
      "class Parameter(object):\n",
      "    ''' \n",
      "    The parameter object gets, sets, and syncs a local and global param.\n",
      "    \n",
      "    Keyword arguments:\n",
      "    name -- string indicating the name of the variable\n",
      "    target -- string indicating the target address of the parameter, \n",
      "        generally in the form of '/node/name'\n",
      "    default -- the default value, or starting value, for this parameter.\n",
      "    dynamic -- bool indicating if the parameter should be updated automatically\n",
      "    name_manager -- a NameManager object or pointer\n",
      "    logger -- a Logger Object or pointer\n",
      "    '''\n",
      "    \n",
      "    def __init__(self, \n",
      "                name: str = None, \n",
      "                target: str = None,\n",
      "                dynamic: bool = False, \n",
      "                default: any = None,\n",
      "                name_manager: NameManager = None,\n",
      "                #parameters = None,\n",
      "                logger: Logger = None,\n",
      "                value: any = None):\n",
      "                    self.setup_name_manager(var=name_manager)\n",
      "                    self.setup_logger(var=logger)\n",
      "                    self._name = name\n",
      "                    self._target = target\n",
      "                    self._default = default\n",
      "                    self._dynamic = dynamic,\n",
      "                    self.value = value\n",
      "\n",
      "    def setup_name_manager(self, var=None):\n",
      "        if var == None:\n",
      "            self.name_manager = NameManager()\n",
      "        else:\n",
      "            self.name_manager = var\n",
      "            \n",
      "    def setup_logger(self, var=None):\n",
      "        if var == None:\n",
      "            self.logger = Logger(name_manager = self.name_manager)\n",
      "        else:\n",
      "            self.logger = var\n",
      "\n",
      "    @property\n",
      "    def name(self):\n",
      "        return self._name\n",
      "    @name.setter\n",
      "    def name(self, var = None):\n",
      "        if var == None:\n",
      "            try:\n",
      "                self._name = str(self.target.split('/')[-1])\n",
      "                self.logger.i(f\"Parameter name from target is {self._name}\")\n",
      "            except (NameError):\n",
      "                self.logger.e(\"Target not defined.\")\n",
      "                self._name = self.name_manager.name\n",
      "        else:\n",
      "            self._name = str(var)\n",
      "            self.logger.i(f'Passed Parameter name is {self._name}')\n",
      "    \n",
      "    @property\n",
      "    def target(self):\n",
      "        if self._target == None:\n",
      "            self.target = None\n",
      "        return self._target\n",
      "    @target.setter\n",
      "    def target(self, var=None):\n",
      "        if var == None:\n",
      "            try:\n",
      "                my_location = self.name_manager.name\n",
      "            except (NameError):\n",
      "                self.logger.e(\"Name Manager not setup\")\n",
      "                try:\n",
      "                    my_location = rospy.get_name()\n",
      "                except (NameError):\n",
      "                    self.logger.e(\"Target not defined.\")\n",
      "                    try:\n",
      "                        my_location = rospy.search_param(self.name)[0]\n",
      "                    except:\n",
      "                        self.logger.e(\"Cannot deduce target\")\n",
      "                        return\n",
      "            self._target = f'{my_location}/{self.name}'\n",
      "            self.logger.i(f\"Parameter target is {self._target}\")\n",
      "        else:\n",
      "            self._target = var\n",
      "            self.logger.i(f\"Parameter target is {self._target}\")\n",
      "    @property\n",
      "    def default(self):\n",
      "        if self._default == None:\n",
      "            self.default = None\n",
      "        return self._default\n",
      "    @default.setter\n",
      "    def default (self, var=None):\n",
      "        if var == None:\n",
      "            if self.value != None:\n",
      "                self._default = self.value\n",
      "            else:\n",
      "                try:\n",
      "                    self._default = self.get_parameter(self.target)\n",
      "                    self.logger.i(\"No default value given. Setting default to parameter.\")\n",
      "                except:\n",
      "                    self.logger.e(\"No default value given, and no global parameter set.\")\n",
      "        else:\n",
      "            #if self._value == None:\n",
      "            #    self._value = var\n",
      "            self._default = var\n",
      "    @property\n",
      "    def dynamic(self):\n",
      "        if self._dynamic == None:\n",
      "            self.dynamic = None\n",
      "        return self._dynamic\n",
      "    @dynamic.setter\n",
      "    def dynamic(self, var: bool = False):\n",
      "        self._dynamic = var\n",
      "    \n",
      "    def get_parameter(self, target):\n",
      "        if rospy.has_param(target):\n",
      "            self.logger.i(f'Parameter {self.name} found. Retreiving.')\n",
      "            return rospy.get_param(target)\n",
      "        else:\n",
      "            pass\n",
      "\n",
      "    def set_parameter(self, target, value):\n",
      "        rospy.set_param(target, value)\n",
      "        self.logger.i(f'Parameter {self.name} has been set to {self.value}.')\n",
      "        \n",
      "    def refresh_parameter(self):\n",
      "        if self.dynamic:\n",
      "            self.value = self.get_parameter(self.target)\n",
      "        else:\n",
      "            pass\n",
      "            \n",
      "    @property\n",
      "    def value(self):\n",
      "        return self._value\n",
      "    @value.setter\n",
      "    def value(self, var=None):\n",
      "        if var == None:\n",
      "            if self.dynamic:\n",
      "                if rospy.has_param(self.target):\n",
      "                    if self.get_parameter(self.target) != None:\n",
      "                        self._value = self.get_parameter(self.target)\n",
      "                        self.logger.i(f\"Dynamic retrieval. Using {self.name} is {self._value}.\")\n",
      "                    else:\n",
      "                        self._value = self.default\n",
      "                else:\n",
      "                    self._value = self.default\n",
      "            else:\n",
      "                self._value = self.default\n",
      "                self.logger.i(\"Dynamic retrieval turned off. Using Default.\")\n",
      "        else:\n",
      "            self._value = var\n",
      "\n"
     ]
    }
   ],
   "source": [
    "from viper_toolkit import Parameter\n",
    "lines = inspect.getsource(Parameter)\n",
    "print(lines)"
   ]
  },
  {
   "cell_type": "code",
   "execution_count": null,
   "metadata": {
    "collapsed": true
   },
   "outputs": [],
   "source": []
  },
  {
   "cell_type": "code",
   "execution_count": null,
   "metadata": {
    "collapsed": true
   },
   "outputs": [],
   "source": []
  }
 ],
 "metadata": {
  "kernelspec": {
   "display_name": "Python 3 (ipykernel)",
   "language": "python",
   "name": "python3"
  },
  "language_info": {
   "codemirror_mode": {
    "name": "ipython",
    "version": 3
   },
   "file_extension": ".py",
   "mimetype": "text/x-python",
   "name": "python",
   "nbconvert_exporter": "python",
   "pygments_lexer": "ipython3",
   "version": "3.8.10"
  }
 },
 "nbformat": 4,
 "nbformat_minor": 4
}

{
 "cells": [
  {
   "cell_type": "markdown",
   "metadata": {},
   "source": [
    "# Scene Segmentation"
   ]
  },
  {
   "cell_type": "code",
   "execution_count": 1,
   "metadata": {},
   "outputs": [],
   "source": [
    "import inspect"
   ]
  },
  {
   "cell_type": "code",
   "execution_count": 2,
   "metadata": {},
   "outputs": [
    {
     "ename": "SyntaxError",
     "evalue": "invalid syntax (dissector.py, line 11)",
     "output_type": "error",
     "traceback": [
      "Traceback \u001b[0;36m(most recent call last)\u001b[0m:\n",
      "  File \u001b[1;32m\"/home/andrew/.local/lib/python3.8/site-packages/IPython/core/interactiveshell.py\"\u001b[0m, line \u001b[1;32m3444\u001b[0m, in \u001b[1;35mrun_code\u001b[0m\n    exec(code_obj, self.user_global_ns, self.user_ns)\n",
      "  File \u001b[1;32m\"/tmp/ipykernel_4606/1243320780.py\"\u001b[0m, line \u001b[1;32m1\u001b[0m, in \u001b[1;35m<module>\u001b[0m\n    from scene_segmentation_module import SceneSegmentationModel\n",
      "  File \u001b[1;32m\"/home/andrew/viper/devel/lib/python3/dist-packages/scene_segmentation_module/__init__.py\"\u001b[0m, line \u001b[1;32m34\u001b[0m, in \u001b[1;35m<module>\u001b[0m\n    exec(__fh.read())\n",
      "  File \u001b[1;32m\"<string>\"\u001b[0m, line \u001b[1;32m6\u001b[0m, in \u001b[1;35m<module>\u001b[0m\n",
      "  File \u001b[1;32m\"/home/andrew/viper/src/scene_segmentation_module/src/scene_segmentation_module/scenesegmentationmodel.py\"\u001b[0m, line \u001b[1;32m14\u001b[0m, in \u001b[1;35m<module>\u001b[0m\n    from viper_toolkit import NameManager, ProcessTimer\n",
      "  File \u001b[1;32m\"/home/andrew/viper/devel/lib/python3/dist-packages/viper_toolkit/__init__.py\"\u001b[0m, line \u001b[1;32m34\u001b[0m, in \u001b[1;35m<module>\u001b[0m\n    exec(__fh.read())\n",
      "\u001b[0;36m  File \u001b[0;32m\"<string>\"\u001b[0;36m, line \u001b[0;32m10\u001b[0;36m, in \u001b[0;35m<module>\u001b[0;36m\u001b[0m\n",
      "\u001b[0;36m  File \u001b[0;32m\"/home/andrew/viper/src/viper_toolkit/src/viper_toolkit/dissector.py\"\u001b[0;36m, line \u001b[0;32m11\u001b[0m\n\u001b[0;31m    ef Dissect(method, class_):\u001b[0m\n\u001b[0m       ^\u001b[0m\n\u001b[0;31mSyntaxError\u001b[0m\u001b[0;31m:\u001b[0m invalid syntax\n"
     ]
    }
   ],
   "source": [
    "from scene_segmentation_module import SceneSegmentationModel\n",
    "lines = inspect.getsource(SceneSegmentationModel)\n",
    "print(lines)"
   ]
  },
  {
   "cell_type": "code",
   "execution_count": null,
   "metadata": {},
   "outputs": [],
   "source": []
  },
  {
   "cell_type": "code",
   "execution_count": null,
   "metadata": {},
   "outputs": [],
   "source": []
  }
 ],
 "metadata": {
  "kernelspec": {
   "display_name": "Python 3 (ipykernel)",
   "language": "python",
   "name": "python3"
  },
  "language_info": {
   "codemirror_mode": {
    "name": "ipython",
    "version": 3
   },
   "file_extension": ".py",
   "mimetype": "text/x-python",
   "name": "python",
   "nbconvert_exporter": "python",
   "pygments_lexer": "ipython3",
   "version": "3.8.10"
  }
 },
 "nbformat": 4,
 "nbformat_minor": 4
}
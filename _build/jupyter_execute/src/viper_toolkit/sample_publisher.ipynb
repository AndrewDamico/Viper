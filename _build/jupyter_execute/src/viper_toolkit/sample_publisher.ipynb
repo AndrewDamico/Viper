{
 "cells": [
  {
   "cell_type": "markdown",
   "metadata": {},
   "source": [
    "# Sample Publisher Nodes"
   ]
  },
  {
   "cell_type": "markdown",
   "metadata": {},
   "source": [
    "We can look at a two very simply sample nodes to understand how ROS works. \n",
    "\n",
    "In the Viper Toolkit package, under the scripts/ folder there are two python files:\n",
    "    * publisher.py\n",
    "    * subscriber.py\n",
    "\n",
    "In ROS I find it easiest to set everything up as a class... In other notebooks I will try to dissect my classes, but for now lets take a look at these two nodes:"
   ]
  },
  {
   "cell_type": "code",
   "execution_count": 1,
   "metadata": {},
   "outputs": [],
   "source": [
    "import inspect\n",
    "import rospy"
   ]
  },
  {
   "cell_type": "markdown",
   "metadata": {},
   "source": [
    "## The Example Subscriber Node and Class Definition"
   ]
  },
  {
   "cell_type": "code",
   "execution_count": 2,
   "metadata": {},
   "outputs": [
    {
     "name": "stdout",
     "output_type": "stream",
     "text": [
      "#!/usr/bin/env python3\n",
      "\n",
      "import rospy\n",
      "from std_msgs.msg import String\n",
      "\n",
      "class PublisherNode(object):\n",
      "    def __init__(self):\n",
      "        self.setup_ros()\n",
      "        self.setup_publisher()\n",
      "        self.main_loop()\n",
      "        \n",
      "    def setup_ros(self):\n",
      "        rospy.init_node('sample_publisher')\n",
      " \n",
      "    def setup_publisher(self):\n",
      "        self.pub = rospy.Publisher(\n",
      "            name = 'topic',\n",
      "            data_class = String,\n",
      "            queue_size = 1)\n",
      "    \n",
      "    def action_loop(self):\n",
      "        time = rospy.get_time()\n",
      "        return  time\n",
      "    \n",
      "    def main_loop(self):\n",
      "        rate = rospy.Rate(10)\n",
      "        while not rospy.is_shutdown():\n",
      "            time = self.action_loop()\n",
      "            message = String(f'The time is now {time}')\n",
      "            self.pub.publish(message)\n",
      "            rospy.loginfo(f'I published: {message}')\n",
      "            rate.sleep()\n",
      "\n",
      "if __name__ == '__main__':\n",
      "    PublisherNode()\n",
      "\n"
     ]
    }
   ],
   "source": [
    "from script import publisher\n",
    "publisher_source = inspect.getsource(publisher)\n",
    "print (publisher_source)"
   ]
  },
  {
   "cell_type": "markdown",
   "metadata": {},
   "source": [
    "Lets take a look at the different parts of this node!"
   ]
  },
  {
   "cell_type": "markdown",
   "metadata": {},
   "source": [
    "## Detailed Look at Class Attributes, Properties, and Methods"
   ]
  },
  {
   "cell_type": "code",
   "execution_count": 3,
   "metadata": {},
   "outputs": [],
   "source": [
    "from script.publisher import PublisherNode"
   ]
  },
  {
   "cell_type": "code",
   "execution_count": 4,
   "metadata": {
    "scrolled": true
   },
   "outputs": [],
   "source": [
    "instance = PublisherNode"
   ]
  },
  {
   "cell_type": "code",
   "execution_count": 5,
   "metadata": {},
   "outputs": [
    {
     "ename": "NameError",
     "evalue": "name 'SubscriberNode' is not defined",
     "output_type": "error",
     "traceback": [
      "\u001b[0;31m---------------------------------------------------------------------------\u001b[0m",
      "\u001b[0;31mNameError\u001b[0m                                 Traceback (most recent call last)",
      "\u001b[0;32m/tmp/ipykernel_4728/2435067016.py\u001b[0m in \u001b[0;36m<module>\u001b[0;34m\u001b[0m\n\u001b[0;32m----> 1\u001b[0;31m \u001b[0;32mdef\u001b[0m \u001b[0mdissect\u001b[0m\u001b[0;34m(\u001b[0m\u001b[0mmethod\u001b[0m\u001b[0;34m,\u001b[0m \u001b[0mclass_\u001b[0m\u001b[0;34m=\u001b[0m\u001b[0mSubscriberNode\u001b[0m\u001b[0;34m)\u001b[0m\u001b[0;34m:\u001b[0m\u001b[0;34m\u001b[0m\u001b[0;34m\u001b[0m\u001b[0m\n\u001b[0m\u001b[1;32m      2\u001b[0m     '''\n\u001b[1;32m      3\u001b[0m     \u001b[0mDissect\u001b[0m\u001b[0;34m(\u001b[0m\u001b[0;34m)\u001b[0m \u001b[0mtakes\u001b[0m \u001b[0ma\u001b[0m \u001b[0mmethod\u001b[0m \u001b[0;32mand\u001b[0m \u001b[0ma\u001b[0m \u001b[0;32mclass\u001b[0m\u001b[0;34m,\u001b[0m \u001b[0;32mand\u001b[0m \u001b[0mreturns\u001b[0m \u001b[0mthe\u001b[0m \u001b[0mcontents\u001b[0m \u001b[0mof\u001b[0m \u001b[0mthe\u001b[0m \u001b[0mfunction\u001b[0m\u001b[0;34m.\u001b[0m\u001b[0;34m\u001b[0m\u001b[0;34m\u001b[0m\u001b[0m\n\u001b[1;32m      4\u001b[0m \u001b[0;34m\u001b[0m\u001b[0m\n\u001b[1;32m      5\u001b[0m     \u001b[0mKeyword\u001b[0m \u001b[0mArguments\u001b[0m\u001b[0;34m:\u001b[0m\u001b[0;34m\u001b[0m\u001b[0;34m\u001b[0m\u001b[0m\n",
      "\u001b[0;31mNameError\u001b[0m: name 'SubscriberNode' is not defined"
     ]
    }
   ],
   "source": [
    "def dissect(method, class_=SubscriberNode):\n",
    "    '''\n",
    "    Dissect() takes a method and a class, and returns the contents of the function.\n",
    "    \n",
    "    Keyword Arguments:\n",
    "    \n",
    "    method -- the name of the method being invoked\n",
    "    class_ -- the name of the class object dissected\n",
    "    '''\n",
    "    instance_ = class_\n",
    "    i = f'instance_.{method}'\n",
    "    print(f'class {SubscriberNode.__name__}(object):')\n",
    "    print(\"\")\n",
    "    e = eval(i)\n",
    "    print(inspect.getsource(e))"
   ]
  },
  {
   "cell_type": "markdown",
   "metadata": {},
   "source": [
    "### Initialize the Class Object\n",
    "The __init__ class function executes at the time that the class in instantiated. We are telling the interpreter to first run the setup_ros() function, then run the setup_publisher() function, and finally to execute the main_loop() function."
   ]
  },
  {
   "cell_type": "code",
   "execution_count": 6,
   "metadata": {},
   "outputs": [
    {
     "name": "stdout",
     "output_type": "stream",
     "text": [
      "class PublisherNode(object):\n",
      "\n",
      "    def __init__(self):\n",
      "        self.setup_ros()\n",
      "        self.setup_publisher()\n",
      "        self.main_loop()\n",
      "\n"
     ]
    }
   ],
   "source": [
    "dissect('__init__')"
   ]
  },
  {
   "cell_type": "markdown",
   "metadata": {},
   "source": [
    "### 2. Setup ROS\n",
    "We need to tell ROS that we would like to bring this node online; we are registering this kernel as \"sample_publisher\". While multiple nodes of the same class can run at once, each node must have a unique name. If a node comes online which has the same name, it will replace the current node and this kernel will be shut down."
   ]
  },
  {
   "cell_type": "code",
   "execution_count": 7,
   "metadata": {},
   "outputs": [
    {
     "name": "stdout",
     "output_type": "stream",
     "text": [
      "class PublisherNode(object):\n",
      "\n",
      "    def setup_ros(self):\n",
      "        rospy.init_node('sample_publisher')\n",
      "\n"
     ]
    }
   ],
   "source": [
    "dissect('setup_ros')"
   ]
  },
  {
   "cell_type": "markdown",
   "metadata": {},
   "source": [
    "### 3. Setting up the Publisher\n",
    "Next we will setup the publisher API which allows a node to publish a \"Topic\", or a broadcasted message. This node will be publishing the topic \"topic\" a  message type of \"String.\" It will only hold on to the last message (queue_size=1)."
   ]
  },
  {
   "cell_type": "code",
   "execution_count": 8,
   "metadata": {},
   "outputs": [
    {
     "name": "stdout",
     "output_type": "stream",
     "text": [
      "class PublisherNode(object):\n",
      "\n",
      "    def setup_publisher(self):\n",
      "        self.pub = rospy.Publisher(\n",
      "            name = 'topic',\n",
      "            data_class = String,\n",
      "            queue_size = 1)\n",
      "\n"
     ]
    }
   ],
   "source": [
    "dissect('setup_publisher')"
   ]
  },
  {
   "cell_type": "markdown",
   "metadata": {},
   "source": [
    "We can take a look at this message type. Messages of the same type need to be serialized so that a reciever is always receiving the same uniform format:"
   ]
  },
  {
   "cell_type": "code",
   "execution_count": 9,
   "metadata": {},
   "outputs": [
    {
     "name": "stdout",
     "output_type": "stream",
     "text": [
      "The class structure of String() is:\n",
      "data: ''\n",
      "\n",
      "The class type is: <class 'str'>\n"
     ]
    }
   ],
   "source": [
    "from std_msgs.msg import String\n",
    "message = String()\n",
    "print (f\"The class structure of String() is:\")\n",
    "print (message)\n",
    "print (\"\")\n",
    "print (f\"The class type is: {type(message.data)}\")"
   ]
  },
  {
   "cell_type": "markdown",
   "metadata": {},
   "source": [
    "This tells us that the message type String contains a single variable, 'data', which is of the class \"str\". ROS will attempt to convert classes between C++ and Python."
   ]
  },
  {
   "cell_type": "markdown",
   "metadata": {},
   "source": [
    "### 4. The Action Loop\n",
    "The Action Loop is where the processing of the node occures. In many of my nodes you will see multiple loops chained together, depending on the desired action to be performed. In this example our action loop is getting the time from the rospy module."
   ]
  },
  {
   "cell_type": "code",
   "execution_count": 10,
   "metadata": {},
   "outputs": [
    {
     "name": "stdout",
     "output_type": "stream",
     "text": [
      "class PublisherNode(object):\n",
      "\n",
      "    def action_loop(self):\n",
      "        time = rospy.get_time()\n",
      "        return  time\n",
      "\n"
     ]
    }
   ],
   "source": [
    "dissect('action_loop')"
   ]
  },
  {
   "cell_type": "markdown",
   "metadata": {},
   "source": [
    "### 5. Main Loop\n",
    "The main loop is the loop which will continually run while the node is online. First, we set the rospy.rate() which is the minimum hz we wish the node to run. In this example, we are asking the node to retrieve the result of the action loop (the time), converting our desired message into the 'String' message format, and then publishing our message. After printing a log entry indicating that it published a message it will then wait wait for the Hz timer to finish before it performs this loop again."
   ]
  },
  {
   "cell_type": "code",
   "execution_count": 11,
   "metadata": {},
   "outputs": [
    {
     "name": "stdout",
     "output_type": "stream",
     "text": [
      "class PublisherNode(object):\n",
      "\n",
      "    def main_loop(self):\n",
      "        rate = rospy.Rate(10)\n",
      "        while not rospy.is_shutdown():\n",
      "            time = self.action_loop()\n",
      "            message = String(f'The time is now {time}')\n",
      "            self.pub.publish(message)\n",
      "            rospy.loginfo(f'I published: {message}')\n",
      "            rate.sleep()\n",
      "\n"
     ]
    }
   ],
   "source": [
    "dissect('main_loop')"
   ]
  },
  {
   "cell_type": "markdown",
   "metadata": {},
   "source": [
    "## Final Output\n",
    "\n",
    "Our resulting output looks like this."
   ]
  },
  {
   "cell_type": "code",
   "execution_count": 2,
   "metadata": {},
   "outputs": [
    {
     "name": "stdout",
     "output_type": "stream",
     "text": [
      "\n",
      "if __name__ == '__main__':\n",
      "    PublisherNode()\n",
      "\n",
      "[INFO] [1638135063.888976]: I published: data: \"The time is now 1638135063.8869355\"\n",
      "[INFO] [1638135063.988257]: I published: data: \"The time is now 1638135063.9871924\"\n",
      "[INFO] [1638135064.088094]: I published: data: \"The time is now 1638135064.0870602\"\n",
      "[INFO] [1638135064.188143]: I published: data: \"The time is now 1638135064.1871343\"\n",
      "\n"
     ]
    }
   ],
   "source": [
    "print ('''\n",
    "if __name__ == '__main__':\n",
    "    PublisherNode()\n",
    "\n",
    "[INFO] [1638135063.888976]: I published: data: \"The time is now 1638135063.8869355\"\n",
    "[INFO] [1638135063.988257]: I published: data: \"The time is now 1638135063.9871924\"\n",
    "[INFO] [1638135064.088094]: I published: data: \"The time is now 1638135064.0870602\"\n",
    "[INFO] [1638135064.188143]: I published: data: \"The time is now 1638135064.1871343\"\n",
    "''')"
   ]
  },
  {
   "cell_type": "code",
   "execution_count": null,
   "metadata": {},
   "outputs": [],
   "source": []
  }
 ],
 "metadata": {
  "kernelspec": {
   "display_name": "Python 3 (ipykernel)",
   "language": "python",
   "name": "python3"
  },
  "language_info": {
   "codemirror_mode": {
    "name": "ipython",
    "version": 3
   },
   "file_extension": ".py",
   "mimetype": "text/x-python",
   "name": "python",
   "nbconvert_exporter": "python",
   "pygments_lexer": "ipython3",
   "version": "3.8.10"
  }
 },
 "nbformat": 4,
 "nbformat_minor": 4
}
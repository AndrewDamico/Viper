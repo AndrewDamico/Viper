{
 "cells": [
  {
   "cell_type": "markdown",
   "metadata": {},
   "source": [
    "# Image Server Client"
   ]
  },
  {
   "cell_type": "markdown",
   "metadata": {},
   "source": [
    "We also configure the Image Server client, which allows this module to communicate with the image server. It does this much in the same way that a Publisher publishes messages... when the module is ready for a new image it broadcasts that it is waiting for an image. The image server is a subscriber of these broadcasts, and once it hears this message it will provide an image to the model server.\n",
    "\n",
    "The reason we have chosen this method rather than providing a service is that a service call blocks the kernel from processing more code until the call has completed and a response has been received, whereas a publisher will simply continue to broadcast a message, regardless if it is received or not. This ensures that processes are not tied up in a service call. \n",
    "\n",
    "Once the Image Server hears that the client is in need of an image it begins the process and communicates to all nodes after it has updated the model server with the new image. It then changes these nodes \"waiting\" status to false via the ImageServerClient.callback. This ensures that while the module is engaging the model server the image server does not wastefully deliver images which no module will use, potentially reducing bandwidth by nearly 87% (assuming that an request is made twice a second, and the image server is reciving images at the rate of 16 FPS; since only two of those frames out of 16 can be used, only two will be delivered to the model server which would otherwise receive all 16!)."
   ]
  },
  {
   "cell_type": "code",
   "execution_count": 1,
   "metadata": {},
   "outputs": [],
   "source": [
    "from viper_toolkit import Dissect\n",
    "import inspect"
   ]
  },
  {
   "cell_type": "code",
   "execution_count": 3,
   "metadata": {},
   "outputs": [
    {
     "name": "stdout",
     "output_type": "stream",
     "text": [
      "class ImageServerClient(object):\n",
      "    def __init__(self, name: str):\n",
      "        self._name = name\n",
      "        self.waiting = Bool()\n",
      "        self.remote_status = Bool()\n",
      "        self.setup_publisher()\n",
      "        self.setup_subscriber()\n",
      "        \n",
      "    def setup_publisher(self):\n",
      "        self.pub = rospy.Publisher(\n",
      "            f'image_request/{self._name}',\n",
      "            Bool,\n",
      "            queue_size=1\n",
      "            )\n",
      "        rospy.loginfo(\n",
      "            f'[{self._name}] Image server request services online.'\n",
      "            )\n",
      "            \n",
      "    def update(self, state: bool):\n",
      "        self.waiting.data = state\n",
      "        self.pub.publish(self.waiting)\n",
      "   \n",
      "    def status(self, entity = \"server\"):\n",
      "        if entity == \"server\":\n",
      "            return self.remote_status.data\n",
      "        else:\n",
      "            return self.waiting.data\n",
      "    \n",
      "    def refresh(self, state: bool):\n",
      "        self.waiting.data = state\n",
      "        \n",
      "    def setup_subscriber(self):\n",
      "        rospy.Subscriber(\n",
      "            'image_server/status',\n",
      "            Bool,\n",
      "            self.callback,\n",
      "            queue_size=1\n",
      "            )\n",
      "        rospy.loginfo(\n",
      "            f'[{self._name}] Subscribed to Image Server.'\n",
      "            )\n",
      "\n",
      "    def callback(self, msg):\n",
      "        self.remote_status = msg\n",
      "\n"
     ]
    }
   ],
   "source": [
    "from image_server import ImageServerClient\n",
    "source = inspect.getsource(ImageServerClient)\n",
    "print (source)"
   ]
  }
 ],
 "metadata": {
  "kernelspec": {
   "display_name": "Python 3 (ipykernel)",
   "language": "python",
   "name": "python3"
  },
  "language_info": {
   "codemirror_mode": {
    "name": "ipython",
    "version": 3
   },
   "file_extension": ".py",
   "mimetype": "text/x-python",
   "name": "python",
   "nbconvert_exporter": "python",
   "pygments_lexer": "ipython3",
   "version": "3.8.10"
  }
 },
 "nbformat": 4,
 "nbformat_minor": 4
}

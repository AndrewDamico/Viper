{
 "cells": [
  {
   "cell_type": "markdown",
   "metadata": {},
   "source": [
    "# Sample Subscriber Nodes"
   ]
  },
  {
   "cell_type": "markdown",
   "metadata": {},
   "source": [
    "The subscriber node is very similar to the Publisher node, and many of my nodes are both publishers and subscribers. \n",
    "\n",
    "The key difference is that the publisher and subscriber functions have a one to many relationship: there can be multiple subscribers subscribed to a topic, but there can only be one publisher.\n",
    "\n",
    "A subscriber node receives the messages published by the subscriber nodes, up to the number of messages allowed in its queue."
   ]
  },
  {
   "cell_type": "code",
   "execution_count": 20,
   "metadata": {},
   "outputs": [],
   "source": [
    "import inspect\n",
    "import rospy\n",
    "from std_msgs.msg import String"
   ]
  },
  {
   "cell_type": "markdown",
   "metadata": {},
   "source": [
    "# The Example Subscriber Node and Class Definition\n",
    "In each package, located in the \"viper/src\" director of my git repository, there is a 'script' folder. Within this folder are the various nodes for that package (which usually are also a class definition of that node). We can take a look at the sample subscriber node I built within the \"viper_toolkit\" package."
   ]
  },
  {
   "cell_type": "code",
   "execution_count": 2,
   "metadata": {},
   "outputs": [
    {
     "name": "stdout",
     "output_type": "stream",
     "text": [
      "#!/usr/bin/env python3\n",
      "\n",
      "import rospy\n",
      "from std_msgs.msg import String\n",
      "\n",
      "class SubscriberNode(object):\n",
      "    \n",
      "    def __init__(self):\n",
      "        self.setup_ros()\n",
      "        self.setup_subscriber()\n",
      "        self.main_loop()\n",
      "    \n",
      "    def setup_ros(self):\n",
      "        # Register our node\n",
      "        rospy.init_node('sample_subscriber')\n",
      "        \n",
      "        # Create our message container. This allows us to retrieve the\n",
      "        # previous message upon failure so that we do not disrupt \n",
      "        # the system loop in the event of a dropped message.\n",
      "        self.message = String()\n",
      "        \n",
      "    def setup_subscriber(self):\n",
      "        # Setup a subscription to the topic 'topic.' We will then receive\n",
      "        # any messages sent to this topic.\n",
      "        rospy.Subscriber(\n",
      "            name = 'topic', \n",
      "            data_class = String, \n",
      "            callback = self.callback,\n",
      "            queue_size = 1)\n",
      "        \n",
      "    def callback(self, msg):\n",
      "        # This tells the node what to do when it receives a new message.\n",
      "        # In this example we are asking it to save the message to the \n",
      "        # container we instantiated earlier in the setup_ros() function.\n",
      "        self.message = msg\n",
      "        # Here, rather than perform our action in the main loop, which\n",
      "        # is activated by cycle, we will have our action originate from\n",
      "        # the callback, which is activated whenever a message is received\n",
      "        # and hence the callback is called.\n",
      "        self.action_loop()\n",
      "        \n",
      "    def action_loop(self):\n",
      "        # We will have this node take a message, and then make it all \n",
      "        # capital letters. We first get the property we saved to \n",
      "        # self.message... in messages of type 'String' the message text \n",
      "        # is saved in the 'data' property.\n",
      "        text = self.message.data\n",
      "        # We then output the results to the log and the terminal\n",
      "        rospy.loginfo(f'I heard {text}')\n",
      "        \n",
      "    def main_loop(self):\n",
      "\n",
      "        # spin() simply keeps python from exiting until this node is stopped\n",
      "        rospy.spin()\n",
      "\n",
      "if __name__ == '__main__':\n",
      "    SubscriberNode()\n",
      "\n"
     ]
    }
   ],
   "source": [
    "from script import subscriber\n",
    "subscriber_source = inspect.getsource(subscriber)\n",
    "print (subscriber_source)"
   ]
  },
  {
   "cell_type": "markdown",
   "metadata": {},
   "source": [
    "Each of my class definitions will look similar, although will greatly vary in complexity. \n",
    "\n",
    "Lets take a look at the different parts of this node."
   ]
  },
  {
   "cell_type": "code",
   "execution_count": 3,
   "metadata": {},
   "outputs": [],
   "source": [
    "from script.subscriber import SubscriberNode"
   ]
  },
  {
   "cell_type": "code",
   "execution_count": 23,
   "metadata": {
    "scrolled": true
   },
   "outputs": [],
   "source": [
    "instance = SubscriberNode\n",
    "instance.message = String(\"The time is now 1638136508.7424648\")"
   ]
  },
  {
   "cell_type": "code",
   "execution_count": 5,
   "metadata": {},
   "outputs": [],
   "source": [
    "def dissect(method):\n",
    "    class_ = 'SubscriberNode'\n",
    "    instance_ = 'instance'\n",
    "    i = f'{instance_}.{method}'\n",
    "    #i = f'instance.{method}'\n",
    "    print(f'class {class_}(object):')\n",
    "    print(\"\")\n",
    "    e = eval(i)\n",
    "    print(inspect.getsource(e))"
   ]
  },
  {
   "cell_type": "markdown",
   "metadata": {},
   "source": [
    "## 1. Initialize the Class Object\n",
    "The __init__ class function executes at the time that the class in instantiated. We are telling the interpreter to first run the setup_ros() function, then run the setup_publisher() function, and finally to execute the main_loop() function."
   ]
  },
  {
   "cell_type": "code",
   "execution_count": 6,
   "metadata": {},
   "outputs": [
    {
     "name": "stdout",
     "output_type": "stream",
     "text": [
      "class SubscriberNode(object):\n",
      "\n",
      "    def __init__(self):\n",
      "        self.setup_ros()\n",
      "        self.setup_subscriber()\n",
      "        self.main_loop()\n",
      "\n"
     ]
    }
   ],
   "source": [
    "dissect('__init__')"
   ]
  },
  {
   "cell_type": "markdown",
   "metadata": {},
   "source": [
    "## 2. Setup ROS\n",
    "We need to tell ROS that we would like to bring this node online; we are registering this kernel as \"sample_subscriber\". \n",
    "\n",
    "During this step we will also set the class \"message\" attribute using the class String.This allows us to retrieve the previous message upon failure so that we do not disrupt the system loop in the event of a dropped message. Note that the message types between the subscribers and the publishers must be the same."
   ]
  },
  {
   "cell_type": "code",
   "execution_count": 7,
   "metadata": {},
   "outputs": [
    {
     "name": "stdout",
     "output_type": "stream",
     "text": [
      "class SubscriberNode(object):\n",
      "\n",
      "    def setup_ros(self):\n",
      "        # Register our node\n",
      "        rospy.init_node('sample_subscriber')\n",
      "        \n",
      "        # Create our message container. This allows us to retrieve the\n",
      "        # previous message upon failure so that we do not disrupt \n",
      "        # the system loop in the event of a dropped message.\n",
      "        self.message = String()\n",
      "\n"
     ]
    }
   ],
   "source": [
    "dissect('setup_ros')"
   ]
  },
  {
   "cell_type": "markdown",
   "metadata": {},
   "source": [
    "## 3. Setting up the Publisher\n",
    "Next we will setup the subscriber API which allows a node to subscribe to a \"Topic.\" This node will be receive all messages of the topic \"topic\", but will only hold on to the last message (queue_size=1).\n",
    "\n",
    "When it receives a new message it will execute its class callback() function"
   ]
  },
  {
   "cell_type": "code",
   "execution_count": 8,
   "metadata": {},
   "outputs": [
    {
     "name": "stdout",
     "output_type": "stream",
     "text": [
      "class SubscriberNode(object):\n",
      "\n",
      "    def setup_subscriber(self):\n",
      "        # Setup a subscription to the topic 'topic.' We will then receive\n",
      "        # any messages sent to this topic.\n",
      "        rospy.Subscriber(\n",
      "            name = 'topic', \n",
      "            data_class = String, \n",
      "            callback = self.callback,\n",
      "            queue_size = 1)\n",
      "\n"
     ]
    }
   ],
   "source": [
    "dissect('setup_subscriber')"
   ]
  },
  {
   "cell_type": "markdown",
   "metadata": {},
   "source": [
    "## 4. The Callback Function\n",
    "The callback() function tells the node what to do once it receives a message. In this example we are asking the node to save the incoming message to the container we set up earlier. Rather than perform an action in the main loop, which is activated cyclically, we will have our action originate from this callback.\n",
    "\n",
    "Thoughout my modules I use a variety of types of messages and callbacks to not only pass on data such as images and inference results, but to also publish \"flags\" or indicators that a node wants something."
   ]
  },
  {
   "cell_type": "code",
   "execution_count": 9,
   "metadata": {
    "scrolled": false
   },
   "outputs": [
    {
     "name": "stdout",
     "output_type": "stream",
     "text": [
      "class SubscriberNode(object):\n",
      "\n",
      "    def callback(self, msg):\n",
      "        # This tells the node what to do when it receives a new message.\n",
      "        # In this example we are asking it to save the message to the \n",
      "        # container we instantiated earlier in the setup_ros() function.\n",
      "        self.message = msg\n",
      "        # Here, rather than perform our action in the main loop, which\n",
      "        # is activated by cycle, we will have our action originate from\n",
      "        # the callback, which is activated whenever a message is received\n",
      "        # and hence the callback is called.\n",
      "        self.action_loop()\n",
      "\n"
     ]
    }
   ],
   "source": [
    "dissect('callback')"
   ]
  },
  {
   "cell_type": "markdown",
   "metadata": {},
   "source": [
    "We can take a look at the message received:"
   ]
  },
  {
   "cell_type": "code",
   "execution_count": 25,
   "metadata": {},
   "outputs": [
    {
     "name": "stdout",
     "output_type": "stream",
     "text": [
      "Sample Message Received\n",
      "data: \"The time is now 1638136508.7424648\"\n"
     ]
    }
   ],
   "source": [
    "print (\"Sample Message Received\")\n",
    "print (instance.message)"
   ]
  },
  {
   "cell_type": "markdown",
   "metadata": {},
   "source": [
    "## 4. The Action Loop\n",
    "In our example action loop we will take the most recent message and transform its case into capital letters. We access the data in the message through it message.data class property. We then output the results to the terminal, as well as return the results when this function is called."
   ]
  },
  {
   "cell_type": "code",
   "execution_count": 10,
   "metadata": {
    "scrolled": true
   },
   "outputs": [
    {
     "name": "stdout",
     "output_type": "stream",
     "text": [
      "class SubscriberNode(object):\n",
      "\n",
      "    def action_loop(self):\n",
      "        # We will have this node take a message, and then make it all \n",
      "        # capital letters. We first get the property we saved to \n",
      "        # self.message... in messages of type 'String' the message text \n",
      "        # is saved in the 'data' property.\n",
      "        text = self.message.data\n",
      "        # We then output the results to the log and the terminal\n",
      "        rospy.loginfo(f'I heard {text}')\n",
      "\n"
     ]
    }
   ],
   "source": [
    "dissect('action_loop')"
   ]
  },
  {
   "cell_type": "markdown",
   "metadata": {},
   "source": [
    "## 5. Main Loop\n",
    "Like the publisher node, the main loop is the loop which will continually run while the node is online. Since all of our actions are occuring within the callback loop we do not have much in our main loop, other than the rospy.spin() function which keeps the kernal alive in the case that it is not actively processing data (but still waiting for messages)."
   ]
  },
  {
   "cell_type": "code",
   "execution_count": 11,
   "metadata": {},
   "outputs": [
    {
     "name": "stdout",
     "output_type": "stream",
     "text": [
      "class SubscriberNode(object):\n",
      "\n",
      "    def main_loop(self):\n",
      "\n",
      "        # spin() simply keeps python from exiting until this node is stopped\n",
      "        rospy.spin()\n",
      "\n"
     ]
    }
   ],
   "source": [
    "dissect('main_loop')"
   ]
  },
  {
   "cell_type": "markdown",
   "metadata": {},
   "source": [
    "## Results\n",
    "\n",
    "Our resulting output looks like this."
   ]
  },
  {
   "cell_type": "raw",
   "metadata": {},
   "source": [
    "if __name__ == '__main__':\n",
    "    SubscriberNode()\n",
    "\n",
    "[INFO] [1638136507.446916]: I heard The time is now 1638136507.4424667\n",
    "[INFO] [1638136507.549606]: I heard The time is now 1638136507.542628\n",
    "[INFO] [1638136507.645125]: I heard The time is now 1638136507.6427877\n",
    "[INFO] [1638136507.744053]: I heard The time is now 1638136507.7424889\n",
    "[INFO] [1638136507.844319]: I heard The time is now 1638136507.842481\n",
    "[INFO] [1638136507.943363]: I heard The time is now 1638136507.942392\n",
    "[INFO] [1638136508.043750]: I heard The time is now 1638136508.0421238\n",
    "[INFO] [1638136508.143128]: I heard The time is now 1638136508.142193\n",
    "[INFO] [1638136508.243026]: I heard The time is now 1638136508.2421603\n",
    "[INFO] [1638136508.343626]: I heard The time is now 1638136508.3424308\n",
    "[INFO] [1638136508.443040]: I heard The time is now 1638136508.442126\n",
    "[INFO] [1638136508.544967]: I heard The time is now 1638136508.5423262\n",
    "[INFO] [1638136508.643845]: I heard The time is now 1638136508.642192\n",
    "[INFO] [1638136508.744374]: I heard The time is now 1638136508.7424648\n",
    "[INFO] [1638136508.846580]: I heard The time is now 1638136508.8422182\n",
    "[INFO] [1638136508.943315]: I heard The time is now 1638136508.942187\n",
    "[INFO] [1638136509.043589]: I heard The time is now 1638136509.0421576\n",
    "[INFO] [1638136509.151396]: I heard The time is now 1638136509.1421568\n",
    "[INFO] [1638136509.245180]: I heard The time is now 1638136509.242158\n",
    "[INFO] [1638136509.343799]: I heard The time is now 1638136509.342172\n",
    "[INFO] [1638136509.444039]: I heard The time is now 1638136509.4425123\n"
   ]
  }
 ],
 "metadata": {
  "kernelspec": {
   "display_name": "Python 3 (ipykernel)",
   "language": "python",
   "name": "python3"
  },
  "language_info": {
   "codemirror_mode": {
    "name": "ipython",
    "version": 3
   },
   "file_extension": ".py",
   "mimetype": "text/x-python",
   "name": "python",
   "nbconvert_exporter": "python",
   "pygments_lexer": "ipython3",
   "version": "3.8.10"
  }
 },
 "nbformat": 4,
 "nbformat_minor": 4
}

{
 "cells": [
  {
   "cell_type": "markdown",
   "metadata": {},
   "source": [
    "# Image Server"
   ]
  },
  {
   "cell_type": "markdown",
   "metadata": {},
   "source": [
    "The Image Server module helps to throttle the images being produced by the camera to minimize bandwidth and processing while still providing each node with the images they need at the time that they need it.\n",
    "\n",
    "Originally, each ROS module was a subscriber to their own images, which came directly from the camera. In order to process a model, the module would take the last image message and send it to the model server for inference. \n",
    "\n",
    "\n",
    "1. This meant that not only would the modules need to create a copy of the image, but they would also need to send that image to the model server, which cost both time and bandwidth. \n",
    "2. The model server might be receiving duplicates of the same image and have to perform processing twice. \n",
    "3. The model server might also be perform processing on two seperate images which were taken milliseconds apart.\n",
    "4. During the time that the model server is performing inference for another model it is unable to receive requests and the other requesting modules need to wait. By the time these modules reach their turn the images they are requesting inference on are stale. \n",
    "\n",
    "To resolve this I created the Image Server module. The Image Server module works by subscribing to \"flags\" for each of the modules. Whenever a module outs up a flag that it has received a new image inference (and hence ready for a new image) the image server delivers a new image to the model server. As soon as the model server accepts the image, the Image Server:\n",
    "1. Broadcasts to all models that a new image is available, and they can make a model request.\n",
    "2. Resets all models \"Image Request\" flags, including the ones made while it was delivering this last image. \n",
    "\n",
    "This has the effect of ensuring that models do not attempt to make a modeling request when there are no new images available, and that all models who make a request at the same time are able to use the same image, cutting down on resources.  \n"
   ]
  },
  {
   "cell_type": "code",
   "execution_count": 20,
   "metadata": {},
   "outputs": [],
   "source": [
    "from viper_toolkit import Dissect\n",
    "import inspect"
   ]
  },
  {
   "cell_type": "markdown",
   "metadata": {},
   "source": [
    "## The Image Server Module"
   ]
  },
  {
   "cell_type": "code",
   "execution_count": null,
   "metadata": {},
   "outputs": [],
   "source": []
  },
  {
   "cell_type": "code",
   "execution_count": 27,
   "metadata": {},
   "outputs": [
    {
     "ename": "ImportError",
     "evalue": "cannot import name 'ImageServer' from 'image_server' (/home/andrew/viper/devel/lib/python3/dist-packages/image_server/__init__.py)",
     "output_type": "error",
     "traceback": [
      "\u001b[0;31m---------------------------------------------------------------------------\u001b[0m",
      "\u001b[0;31mImportError\u001b[0m                               Traceback (most recent call last)",
      "\u001b[0;32m/tmp/ipykernel_100831/1246208776.py\u001b[0m in \u001b[0;36m<module>\u001b[0;34m\u001b[0m\n\u001b[1;32m      1\u001b[0m \u001b[0;32mfrom\u001b[0m \u001b[0mscripts\u001b[0m \u001b[0;32mimport\u001b[0m \u001b[0mimage_server\u001b[0m\u001b[0;34m\u001b[0m\u001b[0;34m\u001b[0m\u001b[0m\n\u001b[0;32m----> 2\u001b[0;31m \u001b[0;32mfrom\u001b[0m \u001b[0mimage_server\u001b[0m \u001b[0;32mimport\u001b[0m \u001b[0mImageServer\u001b[0m\u001b[0;34m\u001b[0m\u001b[0;34m\u001b[0m\u001b[0m\n\u001b[0m\u001b[1;32m      3\u001b[0m \u001b[0msource\u001b[0m \u001b[0;34m=\u001b[0m \u001b[0minspect\u001b[0m\u001b[0;34m.\u001b[0m\u001b[0mgetsource\u001b[0m\u001b[0;34m(\u001b[0m\u001b[0mimage_server\u001b[0m\u001b[0;34m)\u001b[0m\u001b[0;34m\u001b[0m\u001b[0;34m\u001b[0m\u001b[0m\n\u001b[1;32m      4\u001b[0m \u001b[0mprint\u001b[0m \u001b[0;34m(\u001b[0m\u001b[0msource\u001b[0m\u001b[0;34m)\u001b[0m\u001b[0;34m\u001b[0m\u001b[0;34m\u001b[0m\u001b[0m\n",
      "\u001b[0;31mImportError\u001b[0m: cannot import name 'ImageServer' from 'image_server' (/home/andrew/viper/devel/lib/python3/dist-packages/image_server/__init__.py)"
     ]
    }
   ],
   "source": [
    "from scripts import image_server\n",
    "from image_server import ImageServer\n",
    "source = inspect.getsource(image_server)\n",
    "print (source)"
   ]
  },
  {
   "cell_type": "code",
   "execution_count": null,
   "metadata": {},
   "outputs": [],
   "source": []
  },
  {
   "cell_type": "code",
   "execution_count": null,
   "metadata": {},
   "outputs": [],
   "source": []
  },
  {
   "cell_type": "code",
   "execution_count": null,
   "metadata": {},
   "outputs": [],
   "source": []
  },
  {
   "cell_type": "code",
   "execution_count": 22,
   "metadata": {},
   "outputs": [
    {
     "name": "stdout",
     "output_type": "stream",
     "text": [
      "class ImageServerClient(object):\n",
      "    def __init__(self, name: str):\n",
      "        self._name = name\n",
      "        self.waiting = Bool()\n",
      "        self.remote_status = Bool()\n",
      "        self.setup_publisher()\n",
      "        self.setup_subscriber()\n",
      "        \n",
      "    def setup_publisher(self):\n",
      "        self.pub = rospy.Publisher(\n",
      "            f'image_request/{self._name}',\n",
      "            Bool,\n",
      "            queue_size=1\n",
      "            )\n",
      "        rospy.loginfo(\n",
      "            f'[{self._name}] Image server request services online.'\n",
      "            )\n",
      "            \n",
      "    def update(self, state: bool):\n",
      "        self.waiting.data = state\n",
      "        self.pub.publish(self.waiting)\n",
      "   \n",
      "    def status(self, entity = \"server\"):\n",
      "        if entity == \"server\":\n",
      "            return self.remote_status.data\n",
      "        else:\n",
      "            return self.waiting.data\n",
      "    \n",
      "    def refresh(self, state: bool):\n",
      "        self.waiting.data = state\n",
      "        \n",
      "    def setup_subscriber(self):\n",
      "        rospy.Subscriber(\n",
      "            'image_server/status',\n",
      "            Bool,\n",
      "            self.callback,\n",
      "            queue_size=1\n",
      "            )\n",
      "        rospy.loginfo(\n",
      "            f'[{self._name}] Subscribed to Image Server.'\n",
      "            )\n",
      "\n",
      "    def callback(self, msg):\n",
      "        self.remote_status = msg\n",
      "\n"
     ]
    }
   ],
   "source": [
    "from image_server import ImageServerClient\n",
    "source = inspect.getsource(ImageServerClient)\n",
    "print (source)"
   ]
  },
  {
   "cell_type": "code",
   "execution_count": null,
   "metadata": {},
   "outputs": [],
   "source": []
  }
 ],
 "metadata": {
  "kernelspec": {
   "display_name": "Python 3 (ipykernel)",
   "language": "python",
   "name": "python3"
  },
  "language_info": {
   "codemirror_mode": {
    "name": "ipython",
    "version": 3
   },
   "file_extension": ".py",
   "mimetype": "text/x-python",
   "name": "python",
   "nbconvert_exporter": "python",
   "pygments_lexer": "ipython3",
   "version": "3.8.10"
  }
 },
 "nbformat": 4,
 "nbformat_minor": 4
}

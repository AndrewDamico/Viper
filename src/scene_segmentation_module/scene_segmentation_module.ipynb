{
 "cells": [
  {
   "cell_type": "markdown",
   "metadata": {},
   "source": [
    "# Scene Segmentation Module Process"
   ]
  },
  {
   "cell_type": "code",
   "execution_count": 2,
   "metadata": {},
   "outputs": [],
   "source": [
    "import inspect\n",
    "from viper_toolkit import Dissect\n",
    "from scripts.scene_segmentation_module_node import SceneSegmentationModule"
   ]
  },
  {
   "cell_type": "markdown",
   "metadata": {},
   "source": [
    "The Scene Segmentation Module is a ROS Package Module which is comprised of:\n",
    "\n",
    "* the SceneSegmentationModule Class Object\n",
    "* the SceneSegmentationModel processing library\n",
    "* the RoadSegmentation ADAS Model and pretrained weights.\n"
   ]
  },
  {
   "cell_type": "markdown",
   "metadata": {},
   "source": [
    "## Class Definition"
   ]
  },
  {
   "cell_type": "markdown",
   "metadata": {},
   "source": [
    "### Initializing the SceneSegmentationModule Class"
   ]
  },
  {
   "cell_type": "markdown",
   "metadata": {},
   "source": [
    "The class loads a NameManager, the InferenceResults() message type, and the setup functions upon initalization"
   ]
  },
  {
   "cell_type": "code",
   "execution_count": 3,
   "metadata": {},
   "outputs": [
    {
     "name": "stdout",
     "output_type": "stream",
     "text": [
      "class SceneSegmentationModule(object):\n",
      "\n",
      "    def __init__(self):\n",
      "        self.name = NameManager(abv=\"SEG\")\n",
      "        self.inference = InferenceResults()\n",
      "        self.setup_ros()\n",
      "        #self.setup_model()\n",
      "        self.loop()\n",
      "\n"
     ]
    }
   ],
   "source": [
    "Dissect(\"__init__\", SceneSegmentationModule)"
   ]
  },
  {
   "cell_type": "markdown",
   "metadata": {},
   "source": [
    "### Setup Paramters\n",
    "We initalize several parameters with the parameter server, including the rate at which we would like the node to run, as well as if we would like to be able to dynamically update this node. This will allow us to change its rate once it is already running to optimize its performance with the other nodes."
   ]
  },
  {
   "cell_type": "code",
   "execution_count": 6,
   "metadata": {},
   "outputs": [
    {
     "name": "stdout",
     "output_type": "stream",
     "text": [
      "class SceneSegmentationModule(object):\n",
      "\n",
      "    def setup_parameters(self):\n",
      "        self.parameters = ParameterManager()\n",
      "        self.parameters.add(Parameter(\n",
      "            name=\"rate\", \n",
      "            target=f\"{self.name.name}/rate\", \n",
      "            default=50, \n",
      "            dynamic=True\n",
      "            ))\n",
      "        self.parameters.add(Parameter(\n",
      "            name=\"updates\", \n",
      "            target=f\"{self.name.name}/dynamic\", \n",
      "            default=True, \n",
      "            dynamic=True\n",
      "            ))\n",
      "\n"
     ]
    }
   ],
   "source": [
    "Dissect(\"setup_parameters\", SceneSegmentationModule)"
   ]
  },
  {
   "cell_type": "markdown",
   "metadata": {},
   "source": [
    "#### Setting up ROS and the Model Server\n",
    " We setup the module and register it with the ROS network. We also setup the **model_server/modeling_service** ServiceProxy which we will use to request new Models. The request message 'ModelRequest' takes the name of a model (SEG is the name of the Segmentation model) and returns an Inference."
   ]
  },
  {
   "cell_type": "code",
   "execution_count": 11,
   "metadata": {},
   "outputs": [
    {
     "name": "stdout",
     "output_type": "stream",
     "text": [
      "class SceneSegmentationModule(object):\n",
      "\n",
      "    def setup_ros(self):\n",
      "        self.setup_parameters()\n",
      "        rospy.init_node('scene_segmentation', log_level=rospy.DEBUG)\n",
      "        self.setup_model_server()\n",
      "        self.image_server = ImageServerClient(self.name.abv)\n",
      "\n",
      "class SceneSegmentationModule(object):\n",
      "\n",
      "    def setup_model_server(self):\n",
      "        \n",
      "        self.model_request = rospy.ServiceProxy(\n",
      "            'model_server/modeling_service',\n",
      "            ModelRequest,\n",
      "            )\n",
      "\n",
      "        self.pub = rospy.Publisher(\n",
      "            'model_output/scene_segmentation/segmentation_mask',\n",
      "            InferenceResults,\n",
      "            queue_size=1\n",
      "            )\n",
      "\n"
     ]
    }
   ],
   "source": [
    "Dissect(\"setup_ros\", SceneSegmentationModule)\n",
    "Dissect(\"setup_model_server\", SceneSegmentationModule)"
   ]
  },
  {
   "cell_type": "markdown",
   "metadata": {},
   "source": [
    "### Action Loop\n",
    "When the SceneSegmentationModule is ready to perform inference it contacts the model server and provides its modeling code \"SEG\". The model server then computes the inference, and returns an inference message.\n",
    "\n",
    "Inference Messages contain two variables:\n",
    "* int32[]     structure\n",
    "* float32[]   inferences\n",
    "\n",
    "The Vision Processing Unit computes the segmentation of the image, and produces an array of variable length indicating the class of each pixel in the image. All ROS messages must be compatable between Python and C++, and Numpy ndarrays are not supported. In order to serialize these variable length inference results, I decided to flatten the numpy darrays into one dimensional vectors. \n",
    "\n",
    "The structure variable is a list of 32 bit unsigned integers which indicate the original shape of the arrays produced by the Vision Processing Unit.The inference variable is a list of 32 bit floats. \n",
    "\n",
    "The node can reshape the inference vector into the original arrays by using the structure vector as the original shape parameters."
   ]
  },
  {
   "cell_type": "code",
   "execution_count": 9,
   "metadata": {},
   "outputs": [
    {
     "name": "stdout",
     "output_type": "stream",
     "text": [
      "class SceneSegmentationModule(object):\n",
      "\n",
      "    def action_loop(self):\n",
      "        self.timer.lap(\"Wait for Service\")\n",
      "        rospy.wait_for_service(\n",
      "            'model_server/modeling_service'\n",
      "            )\n",
      "        self.timer.time(\"Wait for Service\")\n",
      "        try:\n",
      "            self.timer.lap(\"Modeling Server\")\n",
      "            rospy.logdebug(f\"[{self.name.abv}] Service Requested.\")\n",
      "            req = String()\n",
      "            req.data = \"SEG\" #self.name.abv\n",
      "            response = self.model_request(req)\n",
      "            self.timer.time(\"Modeling Server\", name = \"MOD\")\n",
      "            self.inference = response.results\n",
      "            rospy.logdebug(\n",
      "                f\"[{self.name.abv}] Mask shape received: {self.inference.structure}\"\n",
      "                )\n",
      "            return self.inference\n",
      "\n",
      "        except rospy.ServiceException as e:\n",
      "            rospy.logerr(f\"[{self.name.abv}] Service call failed: {e}\")\n",
      "\n"
     ]
    }
   ],
   "source": [
    "Dissect(\"action_loop\", SceneSegmentationModule)"
   ]
  },
  {
   "cell_type": "markdown",
   "metadata": {},
   "source": [
    "### The Main Loop\n",
    "The complete process is as follows:\n",
    "1. the Node checks for any updates to its parameters and begins logging its time.\n",
    "2. It then checks to see if there are any new images waiting for it at the model server.\n",
    "3. If there are new images, it makes a model request.Prior to making the request however it takes down its own \"waiting for image\" since it cannot simultaniously make a request and use these images.\n",
    "4. Following sucessfully receiving images it broadcasts the results to its subscribers. It does not update its request durring this time since while it is performing this action it cannot use any new images.\n",
    "5. After publishing its inference results it updates its flag to reflect that it is ready for a new image which will be delivered by the time the loop repetes itself and it requests a new inference from the model server. "
   ]
  },
  {
   "cell_type": "code",
   "execution_count": 10,
   "metadata": {},
   "outputs": [
    {
     "name": "stdout",
     "output_type": "stream",
     "text": [
      "class SceneSegmentationModule(object):\n",
      "\n",
      "    def loop(self):\n",
      "        rate = rospy.Rate(self.parameters.rate)\n",
      "        while not rospy.is_shutdown():\n",
      "            if self.parameters.updates == True:\n",
      "                self.parameters.update()\n",
      "                \n",
      "            # Setup timer. Note that this resets on every iteration. \n",
      "            # Future development we may want to move this so that we can \n",
      "            # compute averages.\n",
      "            \n",
      "            self.timer = ProcessTimer(abv = self.name.abv)\n",
      "            \n",
      "            # Check to see if the server has released a new image and \n",
      "            # if so, start new modeling request\n",
      "            \n",
      "            status = self.image_server.status(\"server\")\n",
      "            rospy.logdebug(\n",
      "                f\"[{self.name.abv}] Remote Image Server Status is: {status}\"\n",
      "                )\n",
      "            if status == True: \n",
      "                # Takes down image request flag while performing \n",
      "                # inference since inference time is not negligable\n",
      "                \n",
      "                self.image_server.update(False)\n",
      "                \n",
      "                my_status = self.image_server.status(\"me\")\n",
      "                rospy.logdebug(\n",
      "                    f\"[{self.name.abv}] Waiting Status: {my_status}\"\n",
      "                    )\n",
      "                # Create the image mask\n",
      "                try:\n",
      "                    mask = self.action_loop()\n",
      "                    self.pub.publish(mask)\n",
      "                    rospy.logdebug(f\"[{self.name.abv}] Mask Published\")\n",
      "                except:\n",
      "                    pass\n",
      "            # Update the image server to let it know we need a new image\n",
      "            \n",
      "            self.image_server.update(True)\n",
      "            rospy.logdebug(\n",
      "                \"[SEG] Waiting Status: %s\", \n",
      "                self.image_server.status(\"me\")\n",
      "                )\n",
      "            self.timer.time(\"total_runtime\")\n",
      "            rate.sleep()\n",
      "\n"
     ]
    }
   ],
   "source": [
    "Dissect(\"loop\", SceneSegmentationModule)"
   ]
  },
  {
   "cell_type": "markdown",
   "metadata": {},
   "source": [
    "## The Whole Thing in Action"
   ]
  },
  {
   "cell_type": "code",
   "execution_count": 7,
   "metadata": {
    "scrolled": false
   },
   "outputs": [
    {
     "name": "stdout",
     "output_type": "stream",
     "text": [
      "class SceneSegmentationModule(object):\n",
      "    def __init__(self):\n",
      "        self.name = NameManager(abv=\"SEG\")\n",
      "        self.inference = InferenceResults()\n",
      "        self.setup_ros()\n",
      "        #self.setup_model()\n",
      "        self.loop()\n",
      "    \n",
      "    def setup_parameters(self):\n",
      "        self.parameters = ParameterManager()\n",
      "        self.parameters.add(Parameter(\n",
      "            name=\"rate\", \n",
      "            target=f\"{self.name.name}/rate\", \n",
      "            default=50, \n",
      "            dynamic=True\n",
      "            ))\n",
      "        self.parameters.add(Parameter(\n",
      "            name=\"updates\", \n",
      "            target=f\"{self.name.name}/dynamic\", \n",
      "            default=True, \n",
      "            dynamic=True\n",
      "            ))\n",
      "\n",
      "    def setup_ros(self):\n",
      "        self.setup_parameters()\n",
      "        rospy.init_node('scene_segmentation', log_level=rospy.DEBUG)\n",
      "        self.setup_model_server()\n",
      "        self.image_server = ImageServerClient(self.name.abv)\n",
      "\n",
      "    def setup_model_server(self):\n",
      "        \n",
      "        self.model_request = rospy.ServiceProxy(\n",
      "            'model_server/modeling_service',\n",
      "            ModelRequest,\n",
      "            )\n",
      "\n",
      "        self.pub = rospy.Publisher(\n",
      "            'model_output/scene_segmentation/segmentation_mask',\n",
      "            InferenceResults,\n",
      "            queue_size=1\n",
      "            )\n",
      "\n",
      "    def image_server_backup(self):\n",
      "        self.waiting = Bool\n",
      "        self._image_server_Status = Bool\n",
      "        #Sends out if it is waiting for images\n",
      "        self.wait_status.pub = rospy.Publisher(\n",
      "            'image_request/SEG',\n",
      "            Bool,\n",
      "            queue_size=1\n",
      "            )\n",
      "        rospy.Subscriber('image_server/status',\n",
      "            Bool, \n",
      "            self.image_server.callback, \n",
      "            queue_size=1\n",
      "            )\n",
      "        \n",
      "        def callback(self, msg):\n",
      "            self._image_server_Status = msg\n",
      "\n",
      "    def action_loop(self):\n",
      "        self.timer.lap(\"Wait for Service\")\n",
      "        rospy.wait_for_service(\n",
      "            'model_server/modeling_service'\n",
      "            )\n",
      "        self.timer.time(\"Wait for Service\")\n",
      "        try:\n",
      "            self.timer.lap(\"Modeling Server\")\n",
      "            rospy.logdebug(f\"[{self.name.abv}] Service Requested.\")\n",
      "            req = String()\n",
      "            req.data = \"SEG\" #self.name.abv\n",
      "            response = self.model_request(req)\n",
      "            self.timer.time(\"Modeling Server\", name = \"MOD\")\n",
      "            self.inference = response.results\n",
      "            rospy.logdebug(\n",
      "                f\"[{self.name.abv}] Mask shape received: {self.inference.structure}\"\n",
      "                )\n",
      "            return self.inference\n",
      "\n",
      "        except rospy.ServiceException as e:\n",
      "            rospy.logerr(f\"[{self.name.abv}] Service call failed: {e}\")\n",
      "            \n",
      "\n",
      "    def loop(self):\n",
      "        rate = rospy.Rate(self.parameters.rate)\n",
      "        while not rospy.is_shutdown():\n",
      "            if self.parameters.updates == True:\n",
      "                self.parameters.update()\n",
      "                \n",
      "            # Setup timer. Note that this resets on every iteration. \n",
      "            # Future development we may want to move this so that we can \n",
      "            # compute averages.\n",
      "            \n",
      "            self.timer = ProcessTimer(abv = self.name.abv)\n",
      "            \n",
      "            # Check to see if the server has released a new image and \n",
      "            # if so, start new modeling request\n",
      "            \n",
      "            status = self.image_server.status(\"server\")\n",
      "            rospy.logdebug(\n",
      "                f\"[{self.name.abv}] Remote Image Server Status is: {status}\"\n",
      "                )\n",
      "            if status == True: \n",
      "                # Takes down image request flag while performing \n",
      "                # inference since inference time is not negligable\n",
      "                \n",
      "                self.image_server.update(False)\n",
      "                \n",
      "                my_status = self.image_server.status(\"me\")\n",
      "                rospy.logdebug(\n",
      "                    f\"[{self.name.abv}] Waiting Status: {my_status}\"\n",
      "                    )\n",
      "                # Create the image mask\n",
      "                try:\n",
      "                    mask = self.action_loop()\n",
      "                    self.pub.publish(mask)\n",
      "                    rospy.logdebug(f\"[{self.name.abv}] Mask Published\")\n",
      "                except:\n",
      "                    pass\n",
      "                print (mask)\n",
      "            # Update the image server to let it know we need a new image\n",
      "            \n",
      "            self.image_server.update(True)\n",
      "\n",
      "            rospy.logdebug(\n",
      "                \"[SEG] Waiting Status: %s\", \n",
      "                self.image_server.status(\"me\")\n",
      "                )\n",
      "            self.timer.time(\"total_runtime\")\n",
      "            rate.sleep()\n",
      "\n"
     ]
    }
   ],
   "source": [
    "lines = inspect.getsource(SceneSegmentationModule)\n",
    "print(lines)"
   ]
  },
  {
   "cell_type": "code",
   "execution_count": null,
   "metadata": {},
   "outputs": [],
   "source": []
  }
 ],
 "metadata": {
  "kernelspec": {
   "display_name": "Python 3 (ipykernel)",
   "language": "python",
   "name": "python3"
  },
  "language_info": {
   "codemirror_mode": {
    "name": "ipython",
    "version": 3
   },
   "file_extension": ".py",
   "mimetype": "text/x-python",
   "name": "python",
   "nbconvert_exporter": "python",
   "pygments_lexer": "ipython3",
   "version": "3.8.10"
  }
 },
 "nbformat": 4,
 "nbformat_minor": 4
}

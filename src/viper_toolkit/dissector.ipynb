{
 "cells": [
  {
   "cell_type": "markdown",
   "metadata": {},
   "source": [
    "# Class Dissector"
   ]
  },
  {
   "cell_type": "code",
   "execution_count": 3,
   "metadata": {
    "scrolled": false
   },
   "outputs": [
    {
     "name": "stdout",
     "output_type": "stream",
     "text": [
      "def Dissect(method, class_):\n",
      "    '''\n",
      "    Dissect() takes a method and a class, and returns the contents of the function.\n",
      "    \n",
      "    Keyword Arguments:\n",
      "    \n",
      "    method -- the name of the method being invoked\n",
      "    class_ -- the name of the class object dissected\n",
      "    '''\n",
      "    instance_ = class_\n",
      "    i = f'instance_.{method}'\n",
      "    print(f'class {class_.__name__}(object):')\n",
      "    print(\"\")\n",
      "    e = eval(i)\n",
      "    print(inspect.getsource(e))\n",
      "\n"
     ]
    }
   ],
   "source": [
    "import inspect\n",
    "from viper_toolkit import Dissect\n",
    "lines = inspect.getsource(Dissect)\n",
    "print(lines)"
   ]
  }
 ],
 "metadata": {
  "kernelspec": {
   "display_name": "Python 3 (ipykernel)",
   "language": "python",
   "name": "python3"
  },
  "language_info": {
   "codemirror_mode": {
    "name": "ipython",
    "version": 3
   },
   "file_extension": ".py",
   "mimetype": "text/x-python",
   "name": "python",
   "nbconvert_exporter": "python",
   "pygments_lexer": "ipython3",
   "version": "3.8.10"
  }
 },
 "nbformat": 4,
 "nbformat_minor": 4
}

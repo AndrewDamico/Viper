{
 "cells": [
  {
   "cell_type": "markdown",
   "metadata": {},
   "source": [
    "# Name Manager"
   ]
  },
  {
   "cell_type": "code",
   "execution_count": 1,
   "metadata": {},
   "outputs": [
    {
     "name": "stdout",
     "output_type": "stream",
     "text": [
      "class NameManager(object):\n",
      "    \"\"\"Creates a NameManager class object which is used to standardize\n",
      "    the names for a node or a process, and is linked to other \n",
      "    Viper toolkit modules, such as the logger. It includes rules for \n",
      "    automatically setting the name if a name isn't provided in order\n",
      "    to standardize log messages, parameters, etc.\n",
      "    \n",
      "    Keyword arguments:\n",
      "    abv -- the abreviated name for the object\n",
      "    name -- the full name for the object\n",
      "    \"\"\"\n",
      "    def __init__(self, name: str = None, abv: str = None):\n",
      "        # Sets the name of this module for the sake of logging.\n",
      "        self._code = \"NMG\"\n",
      "        # Retrieves the name of the module and sets to self._pkg_name\n",
      "        self._name = name\n",
      "        self._abv = abv\n",
      "    @property\n",
      "    def name(self):\n",
      "        return self._name\n",
      "    @name.setter\n",
      "    def name(self, name: str = None):\n",
      "        if name == None:\n",
      "            try:\n",
      "                self._name = f'{rospy.get_name()}'[1:]\n",
      "            except:\n",
      "                self._name = \"ERROR\"\n",
      "        else:\n",
      "            self._name = name\n",
      "        rospy.logdebug(f'[{self._code}] Name set to %s', self.name)\n",
      "        #setattr(self, name, self._name)\n",
      "    @property\n",
      "    def abv(self):\n",
      "        return self._abv\n",
      "    @abv.setter\n",
      "    def abv(self, code = None):\n",
      "        if code == None:\n",
      "            self._abv = self._autoabv()\n",
      "        else:\n",
      "            self._abv = self.codeformatter(code)\n",
      "        rospy.set_param(f'/{self.name}/abv', self.abv)\n",
      "        rospy.logdebug(f'[{self._code}] ABV set')\n",
      "    @classmethod\n",
      "    def codeformatter(self, code: str):\n",
      "        abv = code[:3].upper()\n",
      "        abv = abv.ljust(3)\n",
      "        return abv\n",
      "    @classmethod\n",
      "    def _autoabv(self):\n",
      "        if rospy.has_param(f'{self.name}/abv'):\n",
      "            abv = rospy.get_param(f'/{self.name}/abv')\n",
      "            return self.codeformatter(abv)\n",
      "        else:\n",
      "            return self.codeformatter(f'{self.name}')\n",
      "\n"
     ]
    }
   ],
   "source": [
    "import inspect\n",
    "from viper_toolkit import Dissect\n",
    "from viper_toolkit import NameManager\n",
    "lines = inspect.getsource(NameManager)\n",
    "print(lines)"
   ]
  }
 ],
 "metadata": {
  "kernelspec": {
   "display_name": "Python 3 (ipykernel)",
   "language": "python",
   "name": "python3"
  },
  "language_info": {
   "codemirror_mode": {
    "name": "ipython",
    "version": 3
   },
   "file_extension": ".py",
   "mimetype": "text/x-python",
   "name": "python",
   "nbconvert_exporter": "python",
   "pygments_lexer": "ipython3",
   "version": "3.8.10"
  }
 },
 "nbformat": 4,
 "nbformat_minor": 4
}

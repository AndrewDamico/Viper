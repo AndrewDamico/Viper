{
 "cells": [
  {
   "cell_type": "markdown",
   "metadata": {},
   "source": [
    "# Process Timer"
   ]
  },
  {
   "cell_type": "code",
   "execution_count": 1,
   "metadata": {},
   "outputs": [
    {
     "name": "stdout",
     "output_type": "stream",
     "text": [
      "class ProcessTimer(object):\n",
      "    def __init__(self, abv = None, name = None, logger = None):\n",
      "        self.record = {}\n",
      "        self._abv = abv\n",
      "        self._log(tag = \"total_runtime\")\n",
      "        self._logger = logger\n",
      "        self._name = name\n",
      "    @property\n",
      "    def logger(self):\n",
      "        return self._logger\n",
      "    @logger.setter\n",
      "    def logger(self, value):\n",
      "        self._logger = value\n",
      "    @property\n",
      "    def abv(self):\n",
      "        return self._abv\n",
      "    @abv.setter\n",
      "    def abv(self, value = None):\n",
      "        if value == None:\n",
      "            if self._logger != None:\n",
      "                if type(self._logger) == Logger:\n",
      "                    self._abv = self._logger.tag\n",
      "            elif self._name != None:\n",
      "                    if type(self._name) == NameManager:\n",
      "                        self._abv = self._name.abv\n",
      "        else:\n",
      "            self._abv = value\n",
      "    def _log(self, tag: str):\n",
      "        self.record[tag] = {\"start\": time.time(),\n",
      "                            \"end\" : 0,\n",
      "                            \"total\": 0}\n",
      "    def lap(self, tag:str):\n",
      "        self._log(tag)\n",
      "    def time(self, tag:str, name:str = None):\n",
      "        end = time.time()\n",
      "        try:\n",
      "            start = self.record[tag]['start']\n",
      "            self.record[tag]['end'] = end\n",
      "            total_time = self.ms(start, end)\n",
      "            self.record[tag]['total'] = total_time\n",
      "            self.log_info(f\"{tag} time: {total_time}ms\", name)\n",
      "        except:\n",
      "            self.log_error(f'[name] {tag} not found.', name)\n",
      "            return\n",
      "    def log_info(self, message, name):\n",
      "        if type(self._logger) == Logger:\n",
      "            self.logger.i(message, name)\n",
      "        else:\n",
      "            if name == None:\n",
      "                rospy.loginfo(f'[{self._abv}] {message}')\n",
      "            else:\n",
      "                rospy.loginfo(f'[{name}] {message}')\n",
      "    def log_error(self, message, name):\n",
      "        if type(self._logger) == Logger:\n",
      "            self.logger.e(message, name)\n",
      "        elif name != None:\n",
      "            rospy.logerr(f'[{name}] {message}')\n",
      "        else:\n",
      "            rospy.logerr(f'[{self._abv}] {message}')\n",
      "\n",
      "    def ms(self, start, end):\n",
      "        return int(1000*(end - start))\n",
      "\n"
     ]
    }
   ],
   "source": [
    "import inspect\n",
    "from viper_toolkit import Dissect\n",
    "from viper_toolkit import ProcessTimer\n",
    "lines = inspect.getsource(ProcessTimer)\n",
    "print(lines)"
   ]
  },
  {
   "cell_type": "code",
   "execution_count": null,
   "metadata": {},
   "outputs": [],
   "source": []
  }
 ],
 "metadata": {
  "kernelspec": {
   "display_name": "Python 3 (ipykernel)",
   "language": "python",
   "name": "python3"
  },
  "language_info": {
   "codemirror_mode": {
    "name": "ipython",
    "version": 3
   },
   "file_extension": ".py",
   "mimetype": "text/x-python",
   "name": "python",
   "nbconvert_exporter": "python",
   "pygments_lexer": "ipython3",
   "version": "3.8.10"
  }
 },
 "nbformat": 4,
 "nbformat_minor": 4
}

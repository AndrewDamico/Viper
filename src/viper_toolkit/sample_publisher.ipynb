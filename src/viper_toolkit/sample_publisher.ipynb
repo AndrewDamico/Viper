{
 "cells": [
  {
   "cell_type": "markdown",
   "metadata": {},
   "source": [
    "# Sample Publisher Nodes"
   ]
  },
  {
   "cell_type": "markdown",
   "metadata": {},
   "source": [
    "We can look at a two very simply sample nodes to understand how ROS works. \n",
    "\n",
    "In the Viper Toolkit package, under the scripts/ folder there are two python files:\n",
    "    * publisher.py\n",
    "    * subscriber.py\n",
    "\n",
    "In ROS I find it easiest to set everything up as a class... In other notebooks I will try to dissect my classes, but for now lets take a look at these two nodes:"
   ]
  },
  {
   "cell_type": "code",
   "execution_count": 14,
   "metadata": {},
   "outputs": [],
   "source": [
    "import inspect\n",
    "import rospy\n",
    "from viper_toolkit import Dissect"
   ]
  },
  {
   "cell_type": "markdown",
   "metadata": {},
   "source": [
    "## The Example Subscriber Node and Class Definition"
   ]
  },
  {
   "cell_type": "code",
   "execution_count": 8,
   "metadata": {},
   "outputs": [
    {
     "name": "stdout",
     "output_type": "stream",
     "text": [
      "#!/usr/bin/env python3\n",
      "\n",
      "import rospy\n",
      "from std_msgs.msg import String\n",
      "\n",
      "class PublisherNode(object):\n",
      "    def __init__(self):\n",
      "        self.setup_ros()\n",
      "        self.setup_publisher()\n",
      "        self.main_loop()\n",
      "        \n",
      "    def setup_ros(self):\n",
      "        rospy.init_node('sample_publisher')\n",
      " \n",
      "    def setup_publisher(self):\n",
      "        self.pub = rospy.Publisher(\n",
      "            name = 'topic',\n",
      "            data_class = String,\n",
      "            queue_size = 1)\n",
      "    \n",
      "    def action_loop(self):\n",
      "        time = rospy.get_time()\n",
      "        return  time\n",
      "    \n",
      "    def main_loop(self):\n",
      "        rate = rospy.Rate(10)\n",
      "        while not rospy.is_shutdown():\n",
      "            time = self.action_loop()\n",
      "            message = String(f'The time is now {time}')\n",
      "            self.pub.publish(message)\n",
      "            rospy.loginfo(f'I published: {message}')\n",
      "            rate.sleep()\n",
      "\n",
      "if __name__ == '__main__':\n",
      "    PublisherNode()\n",
      "\n"
     ]
    }
   ],
   "source": [
    "from scripts import publisher\n",
    "publisher_source = inspect.getsource(publisher)\n",
    "print (publisher_source)"
   ]
  },
  {
   "cell_type": "markdown",
   "metadata": {},
   "source": [
    "Lets take a look at the different parts of this node!"
   ]
  },
  {
   "cell_type": "markdown",
   "metadata": {},
   "source": [
    "## Detailed Look at Class Attributes, Properties, and Methods"
   ]
  },
  {
   "cell_type": "code",
   "execution_count": 9,
   "metadata": {},
   "outputs": [],
   "source": [
    "from scripts.publisher import PublisherNode"
   ]
  },
  {
   "cell_type": "markdown",
   "metadata": {},
   "source": [
    "### Initialize the Class Object\n",
    "The __init__ class function executes at the time that the class in instantiated. We are telling the interpreter to first run the setup_ros() function, then run the setup_publisher() function, and finally to execute the main_loop() function."
   ]
  },
  {
   "cell_type": "code",
   "execution_count": 16,
   "metadata": {},
   "outputs": [
    {
     "name": "stdout",
     "output_type": "stream",
     "text": [
      "class PublisherNode(object):\n",
      "\n",
      "    def __init__(self):\n",
      "        self.setup_ros()\n",
      "        self.setup_publisher()\n",
      "        self.main_loop()\n",
      "\n"
     ]
    }
   ],
   "source": [
    "Dissect('__init__', PublisherNode)"
   ]
  },
  {
   "cell_type": "markdown",
   "metadata": {},
   "source": [
    "### 2. Setup ROS\n",
    "We need to tell ROS that we would like to bring this node online; we are registering this kernel as \"sample_publisher\". While multiple nodes of the same class can run at once, each node must have a unique name. If a node comes online which has the same name, it will replace the current node and this kernel will be shut down."
   ]
  },
  {
   "cell_type": "code",
   "execution_count": 17,
   "metadata": {},
   "outputs": [
    {
     "name": "stdout",
     "output_type": "stream",
     "text": [
      "class PublisherNode(object):\n",
      "\n",
      "    def setup_ros(self):\n",
      "        rospy.init_node('sample_publisher')\n",
      "\n"
     ]
    }
   ],
   "source": [
    "Dissect('setup_ros', PublisherNode)"
   ]
  },
  {
   "cell_type": "markdown",
   "metadata": {},
   "source": [
    "### 3. Setting up the Publisher\n",
    "Next we will setup the publisher API which allows a node to publish a \"Topic\", or a broadcasted message. This node will be publishing the topic \"topic\" a  message type of \"String.\" It will only hold on to the last message (queue_size=1)."
   ]
  },
  {
   "cell_type": "code",
   "execution_count": 18,
   "metadata": {},
   "outputs": [
    {
     "name": "stdout",
     "output_type": "stream",
     "text": [
      "class PublisherNode(object):\n",
      "\n",
      "    def setup_publisher(self):\n",
      "        self.pub = rospy.Publisher(\n",
      "            name = 'topic',\n",
      "            data_class = String,\n",
      "            queue_size = 1)\n",
      "\n"
     ]
    }
   ],
   "source": [
    "Dissect('setup_publisher', PublisherNode)"
   ]
  },
  {
   "cell_type": "markdown",
   "metadata": {},
   "source": [
    "We can take a look at this message type. Messages of the same type need to be serialized so that a reciever is always receiving the same uniform format:"
   ]
  },
  {
   "cell_type": "code",
   "execution_count": 19,
   "metadata": {},
   "outputs": [
    {
     "name": "stdout",
     "output_type": "stream",
     "text": [
      "The class structure of String() is:\n",
      "data: ''\n",
      "\n",
      "The class type is: <class 'str'>\n"
     ]
    }
   ],
   "source": [
    "from std_msgs.msg import String\n",
    "message = String()\n",
    "print (f\"The class structure of String() is:\")\n",
    "print (message)\n",
    "print (\"\")\n",
    "print (f\"The class type is: {type(message.data)}\")"
   ]
  },
  {
   "cell_type": "markdown",
   "metadata": {},
   "source": [
    "This tells us that the message type String contains a single variable, 'data', which is of the class \"str\". ROS will attempt to convert classes between C++ and Python."
   ]
  },
  {
   "cell_type": "markdown",
   "metadata": {},
   "source": [
    "### 4. The Action Loop\n",
    "The Action Loop is where the processing of the node occures. In many of my nodes you will see multiple loops chained together, depending on the desired action to be performed. In this example our action loop is getting the time from the rospy module."
   ]
  },
  {
   "cell_type": "code",
   "execution_count": 20,
   "metadata": {},
   "outputs": [
    {
     "name": "stdout",
     "output_type": "stream",
     "text": [
      "class PublisherNode(object):\n",
      "\n",
      "    def action_loop(self):\n",
      "        time = rospy.get_time()\n",
      "        return  time\n",
      "\n"
     ]
    }
   ],
   "source": [
    "Dissect('action_loop', PublisherNode)"
   ]
  },
  {
   "cell_type": "markdown",
   "metadata": {},
   "source": [
    "### 5. Main Loop\n",
    "The main loop is the loop which will continually run while the node is online. First, we set the rospy.rate() which is the minimum hz we wish the node to run. In this example, we are asking the node to retrieve the result of the action loop (the time), converting our desired message into the 'String' message format, and then publishing our message. After printing a log entry indicating that it published a message it will then wait wait for the Hz timer to finish before it performs this loop again."
   ]
  },
  {
   "cell_type": "code",
   "execution_count": 21,
   "metadata": {},
   "outputs": [
    {
     "name": "stdout",
     "output_type": "stream",
     "text": [
      "class PublisherNode(object):\n",
      "\n",
      "    def main_loop(self):\n",
      "        rate = rospy.Rate(10)\n",
      "        while not rospy.is_shutdown():\n",
      "            time = self.action_loop()\n",
      "            message = String(f'The time is now {time}')\n",
      "            self.pub.publish(message)\n",
      "            rospy.loginfo(f'I published: {message}')\n",
      "            rate.sleep()\n",
      "\n"
     ]
    }
   ],
   "source": [
    "Dissect('main_loop', PublisherNode)"
   ]
  },
  {
   "cell_type": "markdown",
   "metadata": {},
   "source": [
    "## Final Output\n",
    "\n",
    "Our resulting output looks like this."
   ]
  },
  {
   "cell_type": "code",
   "execution_count": 22,
   "metadata": {},
   "outputs": [
    {
     "name": "stdout",
     "output_type": "stream",
     "text": [
      "\n",
      "if __name__ == '__main__':\n",
      "    PublisherNode()\n",
      "\n",
      "[INFO] [1638135063.888976]: I published: data: \"The time is now 1638135063.8869355\"\n",
      "[INFO] [1638135063.988257]: I published: data: \"The time is now 1638135063.9871924\"\n",
      "[INFO] [1638135064.088094]: I published: data: \"The time is now 1638135064.0870602\"\n",
      "[INFO] [1638135064.188143]: I published: data: \"The time is now 1638135064.1871343\"\n",
      "\n"
     ]
    }
   ],
   "source": [
    "print ('''\n",
    "if __name__ == '__main__':\n",
    "    PublisherNode()\n",
    "\n",
    "[INFO] [1638135063.888976]: I published: data: \"The time is now 1638135063.8869355\"\n",
    "[INFO] [1638135063.988257]: I published: data: \"The time is now 1638135063.9871924\"\n",
    "[INFO] [1638135064.088094]: I published: data: \"The time is now 1638135064.0870602\"\n",
    "[INFO] [1638135064.188143]: I published: data: \"The time is now 1638135064.1871343\"\n",
    "''')"
   ]
  }
 ],
 "metadata": {
  "kernelspec": {
   "display_name": "Python 3 (ipykernel)",
   "language": "python",
   "name": "python3"
  },
  "language_info": {
   "codemirror_mode": {
    "name": "ipython",
    "version": 3
   },
   "file_extension": ".py",
   "mimetype": "text/x-python",
   "name": "python",
   "nbconvert_exporter": "python",
   "pygments_lexer": "ipython3",
   "version": "3.8.10"
  }
 },
 "nbformat": 4,
 "nbformat_minor": 4
}
